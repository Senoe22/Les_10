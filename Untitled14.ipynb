{
 "cells": [
  {
   "cell_type": "code",
   "execution_count": 1,
   "metadata": {},
   "outputs": [],
   "source": [
    "import requests\n",
    "from bs4 import BeautifulSoup\n",
    "import pandas as pd\n",
    "import json"
   ]
  },
  {
   "cell_type": "code",
   "execution_count": 12,
   "metadata": {
    "scrolled": true
   },
   "outputs": [
    {
     "name": "stdout",
     "output_type": "stream",
     "text": [
      "python                                                title  \\\n",
      "0  [\\n, [Python как компилируемый статически типи...   \n",
      "0  [\\n, [Вышел Python 2.7.18, последний релиз вет...   \n",
      "0  [\\n, [В начале этого года Python сместил Java ...   \n",
      "0  [\\n, [Вышла версия 0.0.2 snakeware — дистрибут...   \n",
      "0  [\\n, [Создатель Python Гвидо ван Россум выходи...   \n",
      "0  [\\n, [Создатель Python Гвидо ван Россум ушел и...   \n",
      "0  [\\n, [Астрономам порекомендовали меньше исполь...   \n",
      "0                       [\\n, [Мысли о Python 3], \\n]   \n",
      "0  [\\n, [Дружим Python 3 с MS Visual C++. Строим ...   \n",
      "0  [\\n, [Объединяя C++ и Python. Тонкости Boost.P...   \n",
      "0  [\\n, [Конвертация типов в Boost.Python. Делаем...   \n",
      "0  [\\n, [Путешествие исключений между C++ и Pytho...   \n",
      "0                 [\\n, [Менеджер версий python], \\n]   \n",
      "0                        [\\n, [Python на Хабре], \\n]   \n",
      "0  [\\n, [10 приложений для изучения Python на And...   \n",
      "0                    [\\n, [Что за чёрт, Python], \\n]   \n",
      "0  [\\n, [Совмещение R и Python: зачем, когда и ка...   \n",
      "0             [\\n, [Бинарные модули для Python], \\n]   \n",
      "0                    [\\n, [Python 3 в Facebook], \\n]   \n",
      "0        [\\n, [Указатели в Python: в чём суть?], \\n]   \n",
      "\n",
      "                                               links        date  \n",
      "0        https://habr.com/ru/news/t/531402/#habracut  2020-12-04  \n",
      "0        https://habr.com/ru/news/t/498364/#habracut  2020-04-21  \n",
      "0  https://habr.com/ru/company/itsumma/news/t/490...  2020-03-03  \n",
      "0        https://habr.com/ru/news/t/505096/#habracut  2020-06-03  \n",
      "0        https://habr.com/ru/news/t/527858/#habracut  2020-11-13  \n",
      "0        https://habr.com/ru/news/t/473926/#habracut  2019-10-31  \n",
      "0        https://habr.com/ru/news/t/519414/#habracut  2020-09-16  \n",
      "0          https://habr.com/ru/post/147281/#habracut  2012-07-09  \n",
      "0          https://habr.com/ru/post/161931/#habracut  2012-12-09  \n",
      "0          https://habr.com/ru/post/168083/#habracut  2013-02-03  \n",
      "0          https://habr.com/ru/post/168827/#habracut  2013-02-10  \n",
      "0          https://habr.com/ru/post/169639/#habracut  2013-02-17  \n",
      "0          https://habr.com/ru/post/203516/#habracut  2013-11-25  \n",
      "0          https://habr.com/ru/post/205944/#habracut  2013-12-18  \n",
      "0          https://habr.com/ru/post/269411/#habracut  2015-10-23  \n",
      "0  https://habr.com/ru/company/mailru/blog/337364...  2017-09-07  \n",
      "0  https://habr.com/ru/company/ods/blog/348260/#h...  2018-11-08  \n",
      "0  https://habr.com/ru/company/oleg-bunin/blog/41...  2018-08-29  \n",
      "0  https://habr.com/ru/company/otus/blog/425233/#...  2018-10-03  \n",
      "0  https://habr.com/ru/company/mailru/blog/454324...  2019-06-03  \n",
      "парсинг                                                title  \\\n",
      "0  [\\n, [Правда про парсинг сайтов, или «все инте...   \n",
      "0  [\\n, [Парсинг сайтов — а это вообще легально в...   \n",
      "0  [\\n, [Как выбрать решение для парсинга сайтов:...   \n",
      "0  [\\n, [Парсинг сайтов: как с точки зрения закон...   \n",
      "0  [\\n, [Пример использования Product API от Fetc...   \n",
      "0  [\\n, [Теория и практика парсинга исходников с ...   \n",
      "0   [\\n, [Парсинг и работа с Codable в Swift 4], \\n]   \n",
      "0  [\\n, [Парсинг и анализ семантики для SEO: 5 бе...   \n",
      "0  [\\n, [Парсинг на Pуthon. Как собрать архив Гол...   \n",
      "0  [\\n, [Продвинутый парсинг веб-сайтов с Mechani...   \n",
      "0                    [\\n, [Веб-парсинг на Ruby], \\n]   \n",
      "0  [\\n, [Искусство парсинга 2 или транслитерация ...   \n",
      "0  [\\n, [Парсинг telegram каналов для агрегатора ...   \n",
      "0  [\\n, [Как проанализировать рынок фотостудий с ...   \n",
      "0  [\\n, [Парсинг YouTube, включая подгружаемые да...   \n",
      "0  [\\n, [Использование morph.io для веб-парсинга]...   \n",
      "0  [\\n, [Парсинг сайтов-магазинов. Личный опыт и ...   \n",
      "0             [\\n, [Еще о парсинге на Prolog'е], \\n]   \n",
      "0  [\\n, [Grab — python библиотека для парсинга са...   \n",
      "0    [\\n, [Парсинг формул в 50 строк на Python], \\n]   \n",
      "\n",
      "                                               links        date  \n",
      "0          https://habr.com/ru/post/446488/#habracut  2019-04-03  \n",
      "0          https://habr.com/ru/post/450834/#habracut  2019-05-07  \n",
      "0          https://habr.com/ru/post/521646/#habracut  2020-10-01  \n",
      "0          https://habr.com/ru/post/340302/#habracut  2017-10-17  \n",
      "0  https://habr.com/ru/company/fetchee/blog/31655...  2016-12-01  \n",
      "0  https://habr.com/ru/company/pt/blog/210772/#ha...  2016-03-03  \n",
      "0          https://habr.com/ru/post/414221/#habracut  2018-06-18  \n",
      "0  https://habr.com/ru/company/click/blog/465277/...  2019-08-28  \n",
      "0          https://habr.com/ru/post/121815/#habracut  2011-06-14  \n",
      "0          https://habr.com/ru/post/253439/#habracut  2015-03-18  \n",
      "0          https://habr.com/ru/post/252379/#habracut  2015-03-06  \n",
      "0          https://habr.com/ru/post/444876/#habracut  2019-03-23  \n",
      "0          https://habr.com/ru/post/349942/#habracut  2018-02-26  \n",
      "0          https://habr.com/ru/post/504900/#habracut  2020-07-23  \n",
      "0          https://habr.com/ru/post/505888/#habracut  2020-06-08  \n",
      "0          https://habr.com/ru/post/262991/#habracut  2015-07-19  \n",
      "0          https://habr.com/ru/post/169409/#habracut  2013-02-14  \n",
      "0           https://habr.com/ru/post/60430/#habracut  2009-05-25  \n",
      "0          https://habr.com/ru/post/127584/#habracut  2011-09-02  \n",
      "0          https://habr.com/ru/post/273253/#habracut  2015-12-16  \n"
     ]
    }
   ],
   "source": [
    "# Задание 1. ДЛЯ ПРОВЕРКИ\n",
    "import time\n",
    "KEYWORDS = ['python', 'парсинг']\n",
    "URL = 'https://habr.com/ru/search/'\n",
    "\n",
    "def get_all_links(url, query):\n",
    "    all_refs = []\n",
    "    params = {'q' : query}\n",
    "    res = requests.get(URL, params)\n",
    "    time.sleep(0.3)\n",
    "    soup = BeautifulSoup(res.text, 'html.parser')\n",
    "    news_block = soup.find_all('li', class_ = 'content-list__item content-list__item_post shortcuts_item')\n",
    "    articles_intro = list(map(lambda x:x.find('div', class_ = 'post__body post__body_crop'), news_block))\n",
    "    a_list = list(map(lambda x:x.find('a').get('href'), articles_intro))\n",
    "    all_refs = a_list\n",
    "    return all_refs\n",
    "\n",
    "def get_news (links):\n",
    "    news = pd.DataFrame()\n",
    "    for link in all_links:\n",
    "        soup = BeautifulSoup(requests.get(link).text, 'html.parser')\n",
    "        time.sleep(0.3)\n",
    "        date = pd.to_datetime(soup.find('span', class_='post__time').get('data-time_published'), dayfirst=True).date()\n",
    "        title = soup.find('h1', class_ = 'post__title post__title_full')\n",
    "        row = {'title': title, 'links': link, 'date': date}\n",
    "        news = pd.concat([news, pd.DataFrame([row])])\n",
    "    return news\n",
    "\n",
    "for i in KEYWORDS: \n",
    "    all_links = get_all_links(URL, i)\n",
    "\n",
    "    news = get_news(all_links)\n",
    "    print(i, news)"
   ]
  },
  {
   "cell_type": "code",
   "execution_count": null,
   "metadata": {},
   "outputs": [],
   "source": [
    "# Задание 2. ДЛЯ ПРОВЕРКИ (ниже заданий для проверки больше нет)\n",
    "import time\n",
    "import json\n",
    "import pandas as pd\n",
    "import requests\n",
    "\n",
    "URL = 'https://identityprotection.avast.com/v1/web/query/site-breaches/unauthorized-data'\n",
    "emails = ['pshishka@yandex.ru', 'niksen2277@yandex.ru']\n",
    "\n",
    "params = {'emailAddresses': emails}\n",
    "req = requests.post(URL, data = json.dumps(params), headers ={'Vaar-Version': '0', 'Vaar-Header-App-Product': 'hackcheck-web-avast'})\n",
    "time.sleep(0.3)\n",
    "req.json()\n",
    "table = pd.DataFrame(req.json()['breaches'])\n",
    "transpon_table = table.transpose()\n",
    "cut_table = transpon_table.loc[:,['publishDate', 'site', 'description']].head()\n",
    "cut_table['email'] = params['emailAddresses']\n",
    "\n",
    "emails_table"
   ]
  },
  {
   "cell_type": "code",
   "execution_count": 20,
   "metadata": {
    "scrolled": true
   },
   "outputs": [
    {
     "data": {
      "text/plain": [
       "['https://habr.com/ru/post/446488/#habracut',\n",
       " 'https://habr.com/ru/post/450834/#habracut',\n",
       " 'https://habr.com/ru/post/521646/#habracut',\n",
       " 'https://habr.com/ru/post/340302/#habracut',\n",
       " 'https://habr.com/ru/company/fetchee/blog/316558/#habracut',\n",
       " 'https://habr.com/ru/company/pt/blog/210772/#habracut',\n",
       " 'https://habr.com/ru/post/414221/#habracut',\n",
       " 'https://habr.com/ru/company/click/blog/465277/#habracut',\n",
       " 'https://habr.com/ru/post/121815/#habracut',\n",
       " 'https://habr.com/ru/post/253439/#habracut',\n",
       " 'https://habr.com/ru/post/252379/#habracut',\n",
       " 'https://habr.com/ru/post/444876/#habracut',\n",
       " 'https://habr.com/ru/post/349942/#habracut',\n",
       " 'https://habr.com/ru/post/504900/#habracut',\n",
       " 'https://habr.com/ru/post/505888/#habracut',\n",
       " 'https://habr.com/ru/post/262991/#habracut',\n",
       " 'https://habr.com/ru/post/169409/#habracut',\n",
       " 'https://habr.com/ru/post/60430/#habracut',\n",
       " 'https://habr.com/ru/post/127584/#habracut',\n",
       " 'https://habr.com/ru/post/273253/#habracut']"
      ]
     },
     "execution_count": 20,
     "metadata": {},
     "output_type": "execute_result"
    }
   ],
   "source": [
    "# НЕ ДЛЯ ПРОВЕРКИ! Промежуточная задача - вытаскивание ссылок\n",
    "res = requests.get('https://habr.com/ru/all/')\n",
    "KEYWORDS = ['python', 'парсинг']\n",
    "URL = 'https://habr.com/ru/search/'\n",
    "params = {'q' : 'парсинг'}\n",
    "res = requests.get(URL, params)\n",
    "soup = BeautifulSoup(res.text, 'html.parser')\n",
    "news_block = soup.find_all('li', class_ = 'content-list__item content-list__item_post shortcuts_item')\n",
    "#articles_intro = list(map(lambda x:x.find('div', class_ = 'post__text post__text-html post__text_v1'), news_block))\n",
    "articles_intro = list(map(lambda x:x.find('div', class_ = 'post__body post__body_crop'), news_block))\n",
    "a_list = list(map(lambda x:x.find('a').get('href'), articles_intro))\n",
    "a_list             "
   ]
  },
  {
   "cell_type": "code",
   "execution_count": 5,
   "metadata": {},
   "outputs": [
    {
     "data": {
      "text/html": [
       "<div>\n",
       "<style scoped>\n",
       "    .dataframe tbody tr th:only-of-type {\n",
       "        vertical-align: middle;\n",
       "    }\n",
       "\n",
       "    .dataframe tbody tr th {\n",
       "        vertical-align: top;\n",
       "    }\n",
       "\n",
       "    .dataframe thead th {\n",
       "        text-align: right;\n",
       "    }\n",
       "</style>\n",
       "<table border=\"1\" class=\"dataframe\">\n",
       "  <thead>\n",
       "    <tr style=\"text-align: right;\">\n",
       "      <th></th>\n",
       "      <th>publishDate</th>\n",
       "      <th>site</th>\n",
       "      <th>description</th>\n",
       "    </tr>\n",
       "  </thead>\n",
       "  <tbody>\n",
       "    <tr>\n",
       "      <th>12</th>\n",
       "      <td>2016-10-29T00:00:00Z</td>\n",
       "      <td>vk.com</td>\n",
       "      <td>Popular Russian social networking platform VKo...</td>\n",
       "    </tr>\n",
       "    <tr>\n",
       "      <th>11</th>\n",
       "      <td>2016-10-28T00:00:00Z</td>\n",
       "      <td>badoo.com</td>\n",
       "      <td>In June 2016, millions of accounts compromised...</td>\n",
       "    </tr>\n",
       "    <tr>\n",
       "      <th>4102</th>\n",
       "      <td>2017-04-28T00:00:00Z</td>\n",
       "      <td>yandex.com</td>\n",
       "      <td>In January 2014, Yandex's user database was al...</td>\n",
       "    </tr>\n",
       "  </tbody>\n",
       "</table>\n",
       "</div>"
      ],
      "text/plain": [
       "               publishDate        site  \\\n",
       "12    2016-10-29T00:00:00Z      vk.com   \n",
       "11    2016-10-28T00:00:00Z   badoo.com   \n",
       "4102  2017-04-28T00:00:00Z  yandex.com   \n",
       "\n",
       "                                            description  \n",
       "12    Popular Russian social networking platform VKo...  \n",
       "11    In June 2016, millions of accounts compromised...  \n",
       "4102  In January 2014, Yandex's user database was al...  "
      ]
     },
     "execution_count": 5,
     "metadata": {},
     "output_type": "execute_result"
    }
   ],
   "source": [
    "# Задание 2. НЕ ДЛЯ ПРОВЕРКИ. ПРОМЕЖУТОЧНЫЙ ВАРИАНТ\n",
    "import time\n",
    "import json\n",
    "import pandas as pd\n",
    "import requests\n",
    "\n",
    "URL = 'https://identityprotection.avast.com/v1/web/query/site-breaches/unauthorized-data'\n",
    "emails = ['pshishka@yandex.ru', 'niksen2277@yandex.ru']\n",
    "\n",
    "params = {'emailAddresses': emails}\n",
    "req = requests.post(URL, data = json.dumps(params), headers ={'Vaar-Version': '0', 'Vaar-Header-App-Product': 'hackcheck-web-avast'})\n",
    "time.sleep(0.3)\n",
    "req.json()\n",
    "table = pd.DataFrame(req.json()['breaches'])\n",
    "transpon_table = table.transpose()\n",
    "cut_table = transpon_table.loc[:,['publishDate', 'site', 'description']].head()\n",
    "cut_table"
   ]
  },
  {
   "cell_type": "code",
   "execution_count": 11,
   "metadata": {},
   "outputs": [
    {
     "data": {
      "text/plain": [
       "'{\"breaches\":{\"12\":{\"breachId\":12,\"site\":\"vk.com\",\"recordsCount\":110121799,\"description\":\"Popular Russian social networking platform VKontakte was breached in late 2012. Over 100 million clear-text passwords were compromised in the breach. Breached credential sets included victims\\' e-mail addresses, passwords, dates of birth, phone numbers and location details. The credential set was advertised on a dark web marketplace as of June 2016 for a price of one bitcoin. \",\"publishDate\":\"2016-10-29T00:00:00Z\",\"statistics\":{\"usernames\":0,\"passwords\":107425364,\"emails\":104247327}},\"4102\":{\"breachId\":4102,\"site\":\"yandex.com\",\"recordsCount\":1186559,\"description\":\"In January 2014, Yandex\\'s user database was allegedly breached. The stolen data contains over 1,187,000 records including email addresses and passwords. In September 2014, the compromised data was made public on hacker sites and forums.\",\"publishDate\":\"2017-04-28T00:00:00Z\",\"statistics\":{\"usernames\":0,\"passwords\":1186523,\"emails\":1186559}}},\"data\":{\"yandex.com\":{\"niksen2277@yandex.ru\":[{\"breachId\":4102,\"usernameBreached\":true,\"passwordBreached\":true}]},\"vk.com\":{\"niksen2277@yandex.ru\":[{\"breachId\":12,\"usernameBreached\":true,\"passwordBreached\":true}]}},\"summary\":{\"niksen2277@yandex.ru\":{\"breaches\":[12,4102]}}}'"
      ]
     },
     "execution_count": 11,
     "metadata": {},
     "output_type": "execute_result"
    }
   ],
   "source": [
    "# НЕ ДЛЯ ПРОВЕРКИ. Проверка, что отдает заданный сайт\n",
    "URL = 'https://identityprotection.avast.com/v1/web/query/site-breaches/unauthorized-data'\n",
    "\n",
    "params = {'emailAddresses': ['niksen2277@yandex.ru']}\n",
    "req = requests.post(URL, data = json.dumps(params), headers ={'Vaar-Version': '0', 'Vaar-Header-App-Product': 'hackcheck-web-avast'})\n",
    "req.text\n"
   ]
  },
  {
   "cell_type": "code",
   "execution_count": 11,
   "metadata": {},
   "outputs": [
    {
     "data": {
      "text/plain": [
       "['https://habr.com/ru/post/446488/#habracut',\n",
       " 'https://habr.com/ru/post/450834/#habracut',\n",
       " 'https://habr.com/ru/post/521646/#habracut',\n",
       " 'https://habr.com/ru/post/340302/#habracut',\n",
       " 'https://habr.com/ru/company/fetchee/blog/316558/#habracut',\n",
       " 'https://habr.com/ru/company/pt/blog/210772/#habracut',\n",
       " 'https://habr.com/ru/post/414221/#habracut',\n",
       " 'https://habr.com/ru/company/click/blog/465277/#habracut',\n",
       " 'https://habr.com/ru/post/121815/#habracut',\n",
       " 'https://habr.com/ru/post/253439/#habracut',\n",
       " 'https://habr.com/ru/post/252379/#habracut',\n",
       " 'https://habr.com/ru/post/444876/#habracut',\n",
       " 'https://habr.com/ru/post/349942/#habracut',\n",
       " 'https://habr.com/ru/post/504900/#habracut',\n",
       " 'https://habr.com/ru/post/505888/#habracut',\n",
       " 'https://habr.com/ru/post/262991/#habracut',\n",
       " 'https://habr.com/ru/post/169409/#habracut',\n",
       " 'https://habr.com/ru/post/60430/#habracut',\n",
       " 'https://habr.com/ru/post/127584/#habracut',\n",
       " 'https://habr.com/ru/post/273253/#habracut']"
      ]
     },
     "execution_count": 11,
     "metadata": {},
     "output_type": "execute_result"
    }
   ],
   "source": [
    "# НЕ ДЛЯ ПРОВЕРКИ! Промежуточная задача - вытаскивание ссылок\n",
    "res = requests.get('https://habr.com/ru/all/')\n",
    "KEYWORDS = ['python', 'парсинг']\n",
    "URL = 'https://habr.com/ru/search/'\n",
    "params = {'q' : 'парсинг'}\n",
    "res = requests.get(URL, params)\n",
    "soup = BeautifulSoup(res.text, 'html.parser')\n",
    "news_block = soup.find_all('li', class_ = 'content-list__item content-list__item_post shortcuts_item')\n",
    "#articles_intro = list(map(lambda x:x.find('div', class_ = 'post__text post__text-html post__text_v1'), news_block))\n",
    "articles_intro = list(map(lambda x:x.find('div', class_ = 'post__body post__body_crop'), news_block))\n",
    "a_list = list(map(lambda x:x.find('a').get('href'), articles_intro))\n",
    "a_list "
   ]
  }
 ],
 "metadata": {
  "kernelspec": {
   "display_name": "Python 3",
   "language": "python",
   "name": "python3"
  },
  "language_info": {
   "codemirror_mode": {
    "name": "ipython",
    "version": 3
   },
   "file_extension": ".py",
   "mimetype": "text/x-python",
   "name": "python",
   "nbconvert_exporter": "python",
   "pygments_lexer": "ipython3",
   "version": "3.8.3"
  }
 },
 "nbformat": 4,
 "nbformat_minor": 4
}
